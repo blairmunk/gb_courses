{
 "cells": [
  {
   "cell_type": "markdown",
   "id": "0412fef3-a332-40cd-81d8-c05909860490",
   "metadata": {},
   "source": [
    "# Задачи по курсу \"Знакомство с Python\" (geekbrains)"
   ]
  },
  {
   "cell_type": "markdown",
   "id": "fc4a51ef-5f75-4756-8855-ed6045ab291e",
   "metadata": {},
   "source": [
    "## Урок 1. Ввод-вывод. Операторы ветвления"
   ]
  },
  {
   "cell_type": "markdown",
   "id": "247d7ba2-448b-46f2-a037-3b8f74bffa24",
   "metadata": {},
   "source": [
    "### Задача 1. Сумма цифр трехзначного числа"
   ]
  },
  {
   "cell_type": "code",
   "execution_count": null,
   "id": "ba54208c-6932-4e0d-b9a6-109ccb13372e",
   "metadata": {},
   "outputs": [],
   "source": [
    "n = int(input())\n",
    "res = 0\n",
    "while n > 0:\n",
    "    res += n % 10\n",
    "    n //= 10\n",
    "print(res)\n"
   ]
  },
  {
   "cell_type": "code",
   "execution_count": 9,
   "id": "cfe0ed0f-b2bb-48fc-9c48-a6a897e5540f",
   "metadata": {},
   "outputs": [
    {
     "name": "stdout",
     "output_type": "stream",
     "text": [
      "27\n"
     ]
    }
   ],
   "source": [
    "n = 999\n",
    "res = n//100 + n//10%10 + n%10\n",
    "print(res)"
   ]
  },
  {
   "cell_type": "markdown",
   "id": "174ef26b-1bde-4b40-82df-e83e9afedf94",
   "metadata": {},
   "source": [
    "### Задача 2. Бумажные журавлики\n",
    "\n",
    "Петя, Катя и Сережа делают из бумаги журавликов. Вместе они сделали n журавликов.\n",
    "\n",
    "Сколько журавликов сделал каждый ребенок, если известно, что Петя и Сережа сделали одинаковое количество журавликов, а Катя сделала в два раза больше журавликов, чем Петя и Сережа вместе?\n",
    "\n",
    "Выведите через пробел количество журавликов, сделанных Петей, Катей и Сережей."
   ]
  },
  {
   "cell_type": "code",
   "execution_count": 14,
   "id": "31e7a5bc-a843-4251-b0bf-85a7501177bf",
   "metadata": {},
   "outputs": [
    {
     "name": "stdin",
     "output_type": "stream",
     "text": [
      " 24\n"
     ]
    },
    {
     "name": "stdout",
     "output_type": "stream",
     "text": [
      "4 16 4\n"
     ]
    }
   ],
   "source": [
    "n = int(input())\n",
    "m = n // 6\n",
    "print(m, 4*m, m)\n"
   ]
  },
  {
   "cell_type": "markdown",
   "id": "59c523d0-ba3e-4260-b305-b5fd65725de3",
   "metadata": {},
   "source": [
    "### Задача 3. Счастливый билет"
   ]
  },
  {
   "cell_type": "markdown",
   "id": "9dcbc5f0-52ae-4d32-945b-dd0f17c2abcb",
   "metadata": {},
   "source": [
    "Счастливым билетом называют такой билет с шестизначным номером, где сумма первых трех цифр равна сумме последних трех.\n",
    "\n",
    "Т.е. билет с номером 385916 – счастливый, т.к. 3+8+5=9+1+6.\n",
    "\n",
    "Вам требуется написать программу, которая проверяет счастливость билета с номером n и выводит на экран yes или no."
   ]
  },
  {
   "cell_type": "code",
   "execution_count": 16,
   "id": "4525f2c8-7045-426d-9dd7-6a47a9462f4f",
   "metadata": {},
   "outputs": [
    {
     "name": "stdin",
     "output_type": "stream",
     "text": [
      " 385916\n"
     ]
    },
    {
     "name": "stdout",
     "output_type": "stream",
     "text": [
      "yes\n"
     ]
    }
   ],
   "source": [
    "n = int(input())\n",
    "n1 = n // 100000\n",
    "n2 = n // 10000 % 10\n",
    "n3 = n // 1000 % 10\n",
    "n4 = n // 100 % 10\n",
    "n5 = n // 10 % 10\n",
    "n6 = n % 10\n",
    "if n1 + n2 + n3 == n4 + n5 + n6:\n",
    "    print('yes')\n",
    "else:\n",
    "    print('no')\n",
    "    "
   ]
  },
  {
   "cell_type": "markdown",
   "id": "6704abe8-e34d-4400-b644-59610dd4f519",
   "metadata": {},
   "source": [
    "### Задача 4. Деление шоколадки"
   ]
  },
  {
   "cell_type": "markdown",
   "id": "f821cfb4-dc12-471c-b6e1-051e753f76d5",
   "metadata": {},
   "source": [
    "Определите, можно ли от шоколадки размером a × b долек отломить c долек, если разрешается сделать один разлом по прямой между дольками (то есть разломить шоколадку на два прямоугольника).\n",
    "\n",
    "Выведите yes или no соответственно."
   ]
  },
  {
   "cell_type": "markdown",
   "id": "013d25ae-13a7-46a7-ad01-133e656039fd",
   "metadata": {},
   "source": [
    "a = int(input())\n",
    "b = int(input())\n",
    "c = int(input())\n",
    "if (c <= a * b) and (c % a == 0) or (c % b == 0):\n",
    "    print('yes')\n",
    "else:\n",
    "    print('no')"
   ]
  },
  {
   "cell_type": "markdown",
   "id": "df25259f-4b85-4c56-828f-06052ae1952b",
   "metadata": {
    "jp-MarkdownHeadingCollapsed": true
   },
   "source": [
    "## Урок 2. Циклы (for, while)"
   ]
  },
  {
   "cell_type": "markdown",
   "id": "a604cdea-4097-472d-9d5e-4a1ee6665885",
   "metadata": {
    "jp-MarkdownHeadingCollapsed": true
   },
   "source": [
    "### Задача 1. Монетки"
   ]
  },
  {
   "cell_type": "markdown",
   "id": "9e971310-e0e1-4a32-9635-de50b3da2485",
   "metadata": {},
   "source": [
    "На столе лежат n монеток. Некоторые из монеток лежат вверх решкой, а некоторые – гербом. Ваша задача - определить минимальное количество монеток, которые нужно перевернуть, чтобы все монетки лежали одной и той же стороной вверх.\n",
    "\n",
    "Входные данные:\n",
    "\n",
    "На вход программе подается список coins, где coins[i] равно 0, если i-я монетка лежит гербом вверх, и равно 1, если i-я монетка лежит решкой вверх. Размер списка не превышает 1000 элементов.\n",
    "\n",
    "Выходные данные:\n",
    "\n",
    "Программа должна вывести одно целое число - минимальное количество монеток, которые нужно перевернуть."
   ]
  },
  {
   "cell_type": "code",
   "execution_count": 54,
   "id": "fef0946d-505d-4ff5-814b-0ead154d5e7e",
   "metadata": {},
   "outputs": [
    {
     "name": "stdout",
     "output_type": "stream",
     "text": [
      "3\n"
     ]
    }
   ],
   "source": [
    "coins = [0, 0, 0, 0, 0, 0, 1, 1, 1]\n",
    "gerb_counter = 0\n",
    "for i in coins:\n",
    "    if i == 0:\n",
    "        gerb_counter += 1\n",
    "reshka_counter = len(coins) - gerb_counter\n",
    "print(min(gerb_counter, reshka_counter))"
   ]
  },
  {
   "cell_type": "markdown",
   "id": "37982151-57d3-4aec-a66e-bcad87dbe703",
   "metadata": {},
   "source": [
    "### Задача 2. Помогите Кате отгадать задуманные Петей числа"
   ]
  },
  {
   "cell_type": "markdown",
   "id": "bb58c5b8-69bf-4407-8096-6a4595a927d4",
   "metadata": {},
   "source": [
    "Петя и Катя – брат и сестра. Петя – студент, а Катя – школьница. Петя помогает Кате по математике.\n",
    "Он задумывает два натуральных числа X и Y (X,Y≤1000), а Катя должна их отгадать. Для этого Петя делает две подсказки. Он называет сумму этих чисел S и их произведение P. Помогите Кате отгадать задуманные Петей числа.\n",
    "\n",
    "Примечание: числа S и P задавать не нужно, они будут передаваться в тестах. В результате вы должны вывести все возможные варианты чисел X и Y через пробел."
   ]
  },
  {
   "cell_type": "code",
   "execution_count": 59,
   "id": "d82192d7-b9f8-4417-b5cf-fa24ad828920",
   "metadata": {},
   "outputs": [
    {
     "name": "stdin",
     "output_type": "stream",
     "text": [
      " 12\n",
      " 27\n"
     ]
    },
    {
     "name": "stdout",
     "output_type": "stream",
     "text": [
      "3 9\n",
      "9 3\n"
     ]
    }
   ],
   "source": [
    "S = int(input())\n",
    "P = int(input())\n",
    "for X in range(1,P+1):\n",
    "    if P % X == 0:\n",
    "        Y = P // X\n",
    "        if X + Y == S:\n",
    "            print(X, Y)\n",
    "        "
   ]
  },
  {
   "cell_type": "markdown",
   "id": "877136c4-60d7-4d3a-b6ef-8c536d6cd060",
   "metadata": {},
   "source": [
    "### Задача 3. Целые степени двойки"
   ]
  },
  {
   "cell_type": "markdown",
   "id": "75857e70-4257-4533-921a-8194861db4a2",
   "metadata": {},
   "source": [
    "Требуется вывести все целые степени двойки (т.е. числа вида 2k), не превосходящие числа N."
   ]
  },
  {
   "cell_type": "code",
   "execution_count": 6,
   "id": "6407a5c8-5aa9-49d4-a2ef-74ba2890c27b",
   "metadata": {},
   "outputs": [
    {
     "name": "stdin",
     "output_type": "stream",
     "text": [
      " 67\n"
     ]
    },
    {
     "name": "stdout",
     "output_type": "stream",
     "text": [
      "1\n",
      "2\n",
      "4\n",
      "8\n",
      "16\n",
      "32\n",
      "64\n"
     ]
    }
   ],
   "source": [
    "n = int(input())\n",
    "i = 0\n",
    "while 2**i <= n:\n",
    "    print(2**i)\n",
    "    i += 1"
   ]
  },
  {
   "cell_type": "markdown",
   "id": "9a5b468a-b66a-46f8-b22f-6382fdb6f3f3",
   "metadata": {
    "jp-MarkdownHeadingCollapsed": true
   },
   "source": [
    "## Урок 3. Списки и словари"
   ]
  },
  {
   "cell_type": "markdown",
   "id": "8a1727d4-ef52-4b3d-9476-5648e58c2450",
   "metadata": {
    "jp-MarkdownHeadingCollapsed": true
   },
   "source": [
    "### Задача 1. Встречаемость элемента в массиве"
   ]
  },
  {
   "cell_type": "code",
   "execution_count": 2,
   "id": "d2c5fb2c-1044-4993-8abb-95bb8a37c8a4",
   "metadata": {},
   "outputs": [
    {
     "name": "stdout",
     "output_type": "stream",
     "text": [
      "2\n"
     ]
    }
   ],
   "source": [
    "list_1 = [1, 2, 3, 4, 5, 3]\n",
    "k = 3\n",
    "count = 0\n",
    "for i in list_1:\n",
    "    if i == k:\n",
    "        count += 1\n",
    "print(count)"
   ]
  },
  {
   "cell_type": "markdown",
   "id": "4f8f480e-dcc8-45ac-af1f-22cb977b3b93",
   "metadata": {
    "jp-MarkdownHeadingCollapsed": true
   },
   "source": [
    "### Задача 2. Ближайший элемент в массиве"
   ]
  },
  {
   "cell_type": "code",
   "execution_count": 6,
   "id": "ee984f58-2048-40c1-8028-dc4a475f2992",
   "metadata": {},
   "outputs": [
    {
     "name": "stdout",
     "output_type": "stream",
     "text": [
      "[10, 1, 5, 4, 3, 4]\n",
      "1\n",
      "12\n"
     ]
    }
   ],
   "source": [
    "list_1 = [1, 12, 6, 7, 8, 15]\n",
    "k = 11\n",
    "list_2 = [abs(k - list_1[i]) for i in range(0,len(list_1))]\n",
    "min_index = (list_2.index(min(list_2)))\n",
    "print(list_1[min_index])"
   ]
  },
  {
   "cell_type": "markdown",
   "id": "a0e17212-a35c-47e5-910c-1194351d857e",
   "metadata": {
    "jp-MarkdownHeadingCollapsed": true
   },
   "source": [
    "### Задача 3. Скрабл"
   ]
  },
  {
   "cell_type": "markdown",
   "id": "0d4df906-1d82-45ed-9126-542c60f81931",
   "metadata": {},
   "source": [
    "В настольной игре Скрабл (Scrabble) каждая буква имеет определенную ценность.\n",
    "\n",
    "В случае с английским алфавитом очки распределяются так:\n",
    "\n",
    "    A, E, I, O, U, L, N, S, T, R – 1 очко;\n",
    "    D, G – 2 очка;\n",
    "    B, C, M, P – 3 очка;\n",
    "    F, H, V, W, Y – 4 очка;\n",
    "    K – 5 очков;\n",
    "    J, X – 8 очков;\n",
    "    Q, Z – 10 очков.\n",
    "\n",
    "А русские буквы оцениваются так:\n",
    "\n",
    "    А, В, Е, И, Н, О, Р, С, Т – 1 очко;\n",
    "    Д, К, Л, М, П, У – 2 очка;\n",
    "    Б, Г, Ё, Ь, Я – 3 очка;\n",
    "    Й, Ы – 4 очка;\n",
    "    Ж, З, Х, Ц, Ч – 5 очков;\n",
    "    Ш, Э, Ю – 8 очков;\n",
    "    Ф, Щ, Ъ – 10 очков.\n",
    "\n",
    "Напишите программу, которая вычисляет стоимость введенного пользователем слова k и выводит его. Будем считать, что на вход подается только одно слово, которое содержит либо только английские, либо только русские буквы. "
   ]
  },
  {
   "cell_type": "code",
   "execution_count": 13,
   "id": "940e345e-18ed-40ad-9af9-93f9d49a07c0",
   "metadata": {},
   "outputs": [
    {
     "name": "stdout",
     "output_type": "stream",
     "text": [
      "14\n"
     ]
    }
   ],
   "source": [
    "k = 'sdfsdf'\n",
    "\n",
    "eng_letters = {'a':1, 'e':1, 'i':1, 'o':1, 'u':1, 'l':1, 'n':1, 's':1, 't':1, 'r':1, 'd':2, 'g':2, 'b':3, 'c':3, 'm':3, 'p':3, 'f':4, 'h':4, 'v':4, 'w':4, 'y':4, 'k':5, 'j':8, 'x':8, 'q':10, 'z':10}\n",
    "ru_letters = {'а':1, 'в':1, 'е':1, 'и':1, 'н':1, 'о':1, 'р':1, 'с':1, 'т':1, 'д':2, 'к':2, 'л':2, 'м':2, 'п':2, 'у':2, 'б':3, 'г':3, 'ё':3, 'ь':3, 'я':3, 'й':4, 'ы':4, 'ж':5, 'з':5, 'х':5, 'ц':5, 'ч':5, 'ш':8, 'э':8, 'ю':8, 'ф':10, 'щ':10, 'ъ':10}\n",
    "sum = 0\n",
    "\n",
    "if k[0] in eng_letters:\n",
    "    lookup = eng_letters\n",
    "else: lookup = ru_letters\n",
    "\n",
    "for i in k:\n",
    "    sum += lookup[i]\n",
    "print(sum)\n"
   ]
  },
  {
   "cell_type": "code",
   "execution_count": 14,
   "id": "d020b671-293a-4efb-8c1d-3aad9e14c76e",
   "metadata": {},
   "outputs": [
    {
     "name": "stdout",
     "output_type": "stream",
     "text": [
      "14\n"
     ]
    }
   ],
   "source": [
    "points_en = {1: 'AEIOULNSTR', 2: 'DG', 3: 'BCMP', 4: 'FHVWY', 5: 'K', 8: 'JX', 10: 'QZ'}\n",
    "points_ru = {1: 'АВЕИНОРСТ', 2: 'ДКЛМПУ', 3: 'БГЁЬЯ', 4: 'ЙЫ', 5: 'ЖЗХЦЧ', 8: 'ШЭЮ', 10: 'ФЩЪ'}\n",
    "word = k.upper()  # переводим все буквы в верхний регистр\n",
    "count = 0\n",
    "for i in word:\n",
    "    if i in 'QWERTYUIOPASDFGHJKLZXCVBNM':\n",
    "        for j in points_en:\n",
    "            if i in points_en[j]:\n",
    "                count = count + j\n",
    "    else:\n",
    "        for j in points_en:\n",
    "            if i in points_ru[j]:\n",
    "                count = count + j\n",
    "print(count)\n"
   ]
  },
  {
   "cell_type": "markdown",
   "id": "df4da950-f8d5-44af-b405-377751be72a2",
   "metadata": {},
   "source": [
    "## Урок 4. Словари, множества и профилирование"
   ]
  },
  {
   "cell_type": "markdown",
   "id": "3a7ff454-fec1-4f91-9dff-b097c2f4c555",
   "metadata": {
    "jp-MarkdownHeadingCollapsed": true
   },
   "source": [
    "### Задача 1. Черника"
   ]
  },
  {
   "cell_type": "markdown",
   "id": "73889865-acfd-4a81-a87d-6ee452c4a208",
   "metadata": {},
   "source": [
    "В фермерском хозяйстве в Карелии выращивают чернику. Черника растет на круглой грядке, и кусты черники высажены по окружности грядки. Каждый куст черники имеет урожайность, которая соответствует количеству ягод на этом кусте.\n",
    "\n",
    "Урожайность черничных кустов представлена в виде списка arr, где arr[i] - это урожайность (количество ягод) i-го куста.\n",
    "\n",
    "В фермерском хозяйстве внедрена система автоматического сбора черники. Эта система состоит из управляющего модуля и нескольких собирающих модулей. Каждый собирающий модуль может собрать ягоды с одного куста и с двух соседних кустов. Собирающий модуль находится перед определенным кустом, и он может выбирать, с какого куста начать сбор ягод.\n",
    "\n",
    "Ваша задача - написать программу, которая определит максимальное число ягод, которое может собрать один собирающий модуль за один заход, находясь перед некоторым кустом грядки.\n",
    "\n",
    "Входные данные:\n",
    "\n",
    "На вход программе подается список arr, где arr[i] (1 ≤ arr[i] ≤ 1000) - урожайность i-го куста черники. Размер списка не превышает 1000 элементов.\n",
    "\n",
    "Выходные данные:\n",
    "\n",
    "Программа должна вывести одно целое число - максимальное количество ягод, которое может собрать собирающий модуль, находясь перед некоторым кустом грядки.\n",
    "\n",
    "Пример использования На входе:\n",
    "\n",
    "arr = [5, 8, 6, 4, 9, 2, 7, 3]\n",
    "\n",
    "На выходе:\n",
    "\n",
    "19\n"
   ]
  },
  {
   "cell_type": "code",
   "execution_count": 10,
   "id": "5b43d17b-335f-4a5f-80bb-969c3d076e5f",
   "metadata": {},
   "outputs": [
    {
     "name": "stdin",
     "output_type": "stream",
     "text": [
      " 5 8 6 4 9 2 7 3\n"
     ]
    },
    {
     "name": "stdout",
     "output_type": "stream",
     "text": [
      "summ= 16 max= -1\n",
      "summ= 19 max= 16\n",
      "summ= 18 max= 19\n",
      "summ= 19 max= 19\n",
      "summ= 15 max= 19\n",
      "summ= 18 max= 19\n",
      "summ= 12 max= 19\n",
      "summ= 15 max= 19\n",
      "19\n"
     ]
    }
   ],
   "source": [
    "arr = [int(el) for el in input().split()]\n",
    "maxx = -1\n",
    "for i in range(0, len(arr)):\n",
    "    if i+1 == len(arr):\n",
    "        summ = arr[i-1] + arr[i] + arr[0]\n",
    "    else: summ = arr[i-1] + arr[i] + arr[i+1]\n",
    "    if summ > maxx:\n",
    "        maxx = summ\n",
    "print(maxx)"
   ]
  },
  {
   "cell_type": "code",
   "execution_count": null,
   "id": "b17d6f3e-11f1-465a-862a-fec6443dad4d",
   "metadata": {},
   "outputs": [],
   "source": [
    "# Решение задачи, представленное в виде эталонного\n",
    "arr_count = list()\n",
    "for i in range(len(arr) - 1):\n",
    "    arr_count.append(arr[i - 1] + arr[i] + arr[i + 1])\n",
    "arr_count.append(arr[-2] + arr[-1] + arr[0])\n",
    "# Вывод максимальной урожайности, которую может собрать собирающий модуль\n",
    "print(max(arr_count))"
   ]
  },
  {
   "cell_type": "markdown",
   "id": "749c81fe-05ec-4ca7-8fa2-71ec2ed2250a",
   "metadata": {},
   "source": [
    "### Задача 2. Пересечение двух неупорядоченных наборов целых чисел"
   ]
  },
  {
   "cell_type": "markdown",
   "id": "e006fd55-cb6e-43f5-8697-97bbb2824549",
   "metadata": {},
   "source": [
    "Даны два неупорядоченных набора целых чисел (может быть, с повторениями). Выдать без повторений в порядке возрастания все те числа, которые встречаются в обоих наборах.\n",
    "\n",
    "На вход подается 2 числа через пробел: n m\n",
    "\n",
    "n - кол-во элементов первого множества.\n",
    "\n",
    "m - кол-во элементов второго множества.\n",
    "\n",
    "Затем подаются элементы каждого множества через пробел в виде строки. ! Писать input() не надо\n",
    "\n",
    "Пример\n",
    "\n",
    "На входе:\n",
    "\n",
    "var1 = '5 4' # количество элементов первого и второго множества \\\\\n",
    "var2 = '1 3 5 7 9' # элементы первого множества через пробел \\\\\n",
    "var3 = '2 3 4 5' # элементы второго множества через пробел\n"
   ]
  },
  {
   "cell_type": "code",
   "execution_count": 27,
   "id": "53d86e08-a4a7-4680-bad4-0a7f90d6b922",
   "metadata": {},
   "outputs": [
    {
     "name": "stdin",
     "output_type": "stream",
     "text": [
      " 23 4 34 6567 768 79 9708 2  1 1 1 23 45 6 \n",
      " 3 324 5324 6 23 4 2 1 4 1 24 6 234 234 45\n"
     ]
    },
    {
     "name": "stdout",
     "output_type": "stream",
     "text": [
      "1 2 4 6 23 45 "
     ]
    }
   ],
   "source": [
    "var2 = input()\n",
    "var3 = input()\n",
    "\n",
    "arr1 = list(map(int, var2.split()))\n",
    "arr2 = list(map(int, var3.split()))\n",
    "arr_final = list()\n",
    "\n",
    "if len(arr1) >= len(arr2):\n",
    "    arr_maxi, arr_mini = arr1, arr2\n",
    "else: arr_maxi, arr_mini = arr2, arr1\n",
    "for i in range(len(arr_mini)):\n",
    "    if (arr_mini[i] in arr_maxi) and (arr_mini[i] not in arr_final):\n",
    "        arr_final.append(arr_mini[i])\n",
    "list.sort(arr_final)\n",
    "for i in arr_final:\n",
    "    print(i, end=' ')"
   ]
  },
  {
   "cell_type": "code",
   "execution_count": null,
   "id": "01dd3d5b-f1a9-4edc-974b-d3a41e2f7653",
   "metadata": {},
   "outputs": [],
   "source": [
    "# Решение задачи, представленное в виде эталонного\n",
    "mol = [int(x) for x in var1.split()]\n",
    "n = mol[0]\n",
    "m = mol[1]\n",
    "set_1 = set()\n",
    "set_2 = set()\n",
    "list_1 = list()\n",
    "a = [int(x) for x in var2.split()]\n",
    "k = set(a)\n",
    "for i in k:\n",
    "   set_1.add(i)\n",
    "b = [int(x) for x in var3.split()]\n",
    "k1 = set(b)\n",
    "for i in k1:\n",
    "   set_2.add(i)\n",
    "lok = set_1 & set_2\n",
    "kool = list(lok)\n",
    "kool.sort()\n",
    "for i in kool:\n",
    "   print(i, end=' ')"
   ]
  },
  {
   "cell_type": "markdown",
   "id": "ea3371e5-e9ac-4bef-a1a9-3680a58b0d6b",
   "metadata": {
    "jp-MarkdownHeadingCollapsed": true
   },
   "source": [
    "## Урок 5. Рекурсия и алгоритмы"
   ]
  },
  {
   "cell_type": "markdown",
   "id": "d8d6712c-8bc7-4d9d-bbb2-eef2f8f14294",
   "metadata": {
    "jp-MarkdownHeadingCollapsed": true
   },
   "source": [
    "### Задача 1. Возведение в степень"
   ]
  },
  {
   "cell_type": "markdown",
   "id": "0c1382df-a54e-46af-ab71-42b6a54e98df",
   "metadata": {},
   "source": [
    "Напишите функцию f, которая на вход принимает два числа a и b, и возводит число a в целую степень b с помощью рекурсии.\n",
    "\n",
    "Функция не должна ничего выводить, только возвращать значение."
   ]
  },
  {
   "cell_type": "code",
   "execution_count": 1,
   "id": "b2799892-b51d-4b31-ae8a-25f0d0b4ff64",
   "metadata": {},
   "outputs": [
    {
     "name": "stdin",
     "output_type": "stream",
     "text": [
      " 3\n",
      " 4\n"
     ]
    },
    {
     "name": "stdout",
     "output_type": "stream",
     "text": [
      "81\n"
     ]
    }
   ],
   "source": [
    "def f(a, b):\n",
    "    if b == 1:\n",
    "        return a\n",
    "    elif b % 2 == 0:\n",
    "        res = f(a, b // 2)\n",
    "        return res * res\n",
    "    else: \n",
    "        res = f(a, b // 2)\n",
    "        return res * res * n\n",
    "a, b = int(input()), int(input())\n",
    "print(f(a,b))\n"
   ]
  },
  {
   "cell_type": "code",
   "execution_count": null,
   "id": "f9f19ba0-a931-454b-8b4b-a8bae1ce341b",
   "metadata": {},
   "outputs": [],
   "source": [
    "# Эталонное решение\n",
    "\n",
    "def f(a, b):\n",
    "  if b == 0:\n",
    "    return 1\n",
    "  return f(a, b - 1) * a"
   ]
  },
  {
   "cell_type": "markdown",
   "id": "43c3d5c3-6848-4950-b8b0-dba5773ca303",
   "metadata": {},
   "source": [
    "### Задача 2. Рекурсивная сумма"
   ]
  },
  {
   "cell_type": "markdown",
   "id": "dda39581-493b-46db-af42-4c5216999b5f",
   "metadata": {},
   "source": [
    "Напишите рекурсивную функцию sum(a, b), возвращающую сумму двух целых неотрицательных чисел. Из всех арифметических операций допускаются только +1 и -1. Также нельзя использовать циклы.\n",
    "\n",
    "Функция не должна ничего выводить, только возвращать значение."
   ]
  },
  {
   "cell_type": "code",
   "execution_count": 3,
   "id": "73ffb4d9-2451-4d3f-b0c9-798909d6fe3a",
   "metadata": {},
   "outputs": [
    {
     "name": "stdin",
     "output_type": "stream",
     "text": [
      " 3\n",
      " 7\n"
     ]
    },
    {
     "name": "stdout",
     "output_type": "stream",
     "text": [
      "10\n"
     ]
    }
   ],
   "source": [
    "def sum(a, b):\n",
    "  if b == 0:\n",
    "    return a\n",
    "  return 1 + sum(a, b - 1)\n",
    "    \n",
    "a, b = int(input()), int(input())\n",
    "print(sum(a,b))"
   ]
  },
  {
   "cell_type": "code",
   "execution_count": null,
   "id": "00515194-129e-49b3-b3e3-2fbb00cae1fe",
   "metadata": {},
   "outputs": [],
   "source": [
    "# Эталонное решение\n",
    "def sum(a, b):\n",
    "    if b == 0:\n",
    "        return a\n",
    "    elif a == 0:\n",
    "        return b\n",
    "    else:\n",
    "        return sum(a + 1, b - 1)"
   ]
  },
  {
   "cell_type": "markdown",
   "id": "cff2a53c-2873-4125-b738-1d50153c2c28",
   "metadata": {
    "jp-MarkdownHeadingCollapsed": true
   },
   "source": [
    "## Урок 6. Повторение списков"
   ]
  },
  {
   "cell_type": "markdown",
   "id": "1b39a445-019c-43ad-b889-f6bac5384e69",
   "metadata": {},
   "source": [
    "### Задача 1. Арифметическая прогрессия"
   ]
  },
  {
   "cell_type": "markdown",
   "id": "dfa27523-dcfd-4c05-b7de-689e7cefe92c",
   "metadata": {},
   "source": [
    "Заполните массив элементами арифметической прогрессии. Её первый элемент a1 , разность d и количество элементов n будет задано автоматически. Формула для получения n-го члена прогрессии: an = a1 + (n-1) * d."
   ]
  },
  {
   "cell_type": "code",
   "execution_count": 7,
   "id": "86028637-7ea3-4e5a-815a-e332a15b9fcb",
   "metadata": {},
   "outputs": [
    {
     "name": "stdin",
     "output_type": "stream",
     "text": [
      " 5\n",
      " -1\n",
      " 10\n"
     ]
    },
    {
     "name": "stdout",
     "output_type": "stream",
     "text": [
      "5\n",
      "4\n",
      "3\n",
      "2\n",
      "1\n",
      "0\n",
      "-1\n",
      "-2\n",
      "-3\n",
      "-4\n"
     ]
    }
   ],
   "source": [
    "a1 = int(input())\n",
    "d = int(input())\n",
    "n = int(input())\n",
    "\n",
    "an = a1 + n * d\n",
    "\n",
    "numbers = [n for n in range(a1,an,d)]\n",
    "\n",
    "print(*numbers, sep=\"\\n\")                        "
   ]
  },
  {
   "cell_type": "code",
   "execution_count": null,
   "id": "ddc087ed-7379-47e7-b2ef-2f4b24e024c5",
   "metadata": {},
   "outputs": [],
   "source": [
    "# Эталонное решение\n",
    "a1 = int(input())\n",
    "d = int(input())\n",
    "n = int(input())\n",
    "\n",
    "for i in range(n):\n",
    "  print(a1 + i * d)"
   ]
  },
  {
   "cell_type": "markdown",
   "id": "1cc6ab12-84ad-4856-b327-5fe77a9c4fac",
   "metadata": {},
   "source": [
    "### Задача 2. Элементы из заданного диапазона"
   ]
  },
  {
   "cell_type": "markdown",
   "id": "51e80beb-d29e-4d18-8b62-960b0bfd54f0",
   "metadata": {},
   "source": [
    "Определить индексы элементов массива (списка), значения которых принадлежат заданному диапазону (т.е. не меньше заданного минимума и не больше заданного максимума).\n",
    "На вход подается список с элементамиlist_1 и границы диапазона в виде чисел min_number, max_number."
   ]
  },
  {
   "cell_type": "code",
   "execution_count": 6,
   "id": "89da35ff-a1d7-43ea-bcbf-a00bee2afd0f",
   "metadata": {},
   "outputs": [
    {
     "name": "stdout",
     "output_type": "stream",
     "text": [
      "1\n",
      "2\n",
      "3\n",
      "6\n",
      "7\n",
      "9\n",
      "10\n",
      "11\n",
      "13\n",
      "14\n",
      "16\n",
      "19\n"
     ]
    }
   ],
   "source": [
    "list_1 = [-5, 9, 0, 3, -1, -2, 1, 4, -2, 10, 2, 0, -9, 8, 10, -9, 0, -5, -5, 7]\n",
    "min_number = 0\n",
    "max_number = 10\n",
    "list_index= []\n",
    "index = 0\n",
    "\n",
    "for i in list_1:\n",
    "    if  min_number <= i <= max_number:\n",
    "        list_index.append(index)\n",
    "    index += 1\n",
    "\n",
    "print(*list_index, sep='\\n')"
   ]
  },
  {
   "cell_type": "code",
   "execution_count": null,
   "id": "50639a69-c4b4-4b54-a65c-a30e183f9504",
   "metadata": {},
   "outputs": [],
   "source": [
    "# Эталонное решение\n",
    "list_1 = [-5, 9, 0, 3, -1, -2, 1, 4, -2, 10, 2, 0, -9, 8, 10, -9, 0, -5, -5, 7]\n",
    "min_number = 0\n",
    "max_number = 10\n",
    "\n",
    "for i in range(len(list_1)):\n",
    "  if min_number <= list_1[i] <= max_number:\n",
    "    print(i)"
   ]
  },
  {
   "cell_type": "markdown",
   "id": "bb0e5739-0788-4b64-a7a7-ed71a6cfaa39",
   "metadata": {},
   "source": [
    "## Лекция 4. Функции высшего порядка, работа с файлами"
   ]
  },
  {
   "cell_type": "markdown",
   "id": "41e1cf41-6b92-47f6-840f-e647c3d184df",
   "metadata": {},
   "source": [
    "### Задача для самостоятельного решения"
   ]
  },
  {
   "cell_type": "markdown",
   "id": "34fb226c-7535-46ea-9b93-5c65030d4c16",
   "metadata": {},
   "source": [
    "В списке хранятся числа. Нужно выбрать только чётные числа и составить список пар\n",
    "(число; квадрат числа). <br>\n",
    "Пример: 1 2 3 5 8 15 23 38 <br>\n",
    "Получить: [(2, 4), (8, 64), (38, 1444)]"
   ]
  },
  {
   "cell_type": "code",
   "execution_count": 6,
   "id": "720c70db-bf6f-4390-85d9-1164aaf563a6",
   "metadata": {},
   "outputs": [
    {
     "name": "stdout",
     "output_type": "stream",
     "text": [
      "[(2, 4), (8, 64), (38, 1444)]\n"
     ]
    }
   ],
   "source": [
    "# Моё решение\n",
    "list_1 = [1, 2, 3, 5, 8, 15, 23, 38]\n",
    "final_list = []\n",
    "for i in list_1:\n",
    "    if i%2 == 0:\n",
    "        tuple_1 = (i, i*i)\n",
    "        final_list.append(tuple_1)\n",
    "print(final_list)"
   ]
  },
  {
   "cell_type": "code",
   "execution_count": 9,
   "id": "8bcf3696-bf3c-4221-bc63-847bcff2f509",
   "metadata": {},
   "outputs": [
    {
     "name": "stdout",
     "output_type": "stream",
     "text": [
      "[(2, 4), (8, 64), (38, 1444)]\n"
     ]
    }
   ],
   "source": [
    "# Эталонное решение\n",
    "data = [1, 2, 3, 5, 8, 15, 23, 38]\n",
    "out = []\n",
    "for i in data:\n",
    "    if i % 2 == 0:\n",
    "        out.append((i, i ** 2))\n",
    "print(out)"
   ]
  },
  {
   "cell_type": "code",
   "execution_count": 11,
   "id": "1820a4bd-8aa9-44a1-bcd7-dc95db74056f",
   "metadata": {},
   "outputs": [
    {
     "name": "stdout",
     "output_type": "stream",
     "text": [
      "[2, 8, 38]\n"
     ]
    }
   ],
   "source": [
    "# Решение с помощью lambda\n",
    "def select(f, col):\n",
    "    return [f(x) for x in col]\n",
    "def where(f, col):\n",
    "    return [x for x in col if f(x)]\n",
    "data = [1, 2, 3, 5, 8, 15, 23, 38]\n",
    "\n",
    "res = select(int, data)\n",
    "res = where(lambda x: x % 2 == 0, res)\n",
    "\n",
    "print(res) # [2, 8, 38]\n",
    "\n",
    "res = list(select(lambda x: (x, x ** 2), res))"
   ]
  },
  {
   "cell_type": "code",
   "execution_count": 13,
   "id": "fbd93252-148b-4cdc-824d-36d4df0a65f1",
   "metadata": {},
   "outputs": [
    {
     "name": "stdout",
     "output_type": "stream",
     "text": [
      "[(2, 4), (8, 64), (38, 1444)]\n"
     ]
    }
   ],
   "source": [
    "# Решение с помощью функций map и filter\n",
    "data = '1 2 3 5 8 15 23 38'.split()\n",
    "res = map(int, data)\n",
    "res = filter(lambda x: x % 2 == 0, res)\n",
    "res = list(map(lambda x: (x, x ** 2), res))\n",
    "print(res)"
   ]
  },
  {
   "cell_type": "markdown",
   "id": "3defb0a8-c084-4b83-b5a8-af16367ed75b",
   "metadata": {},
   "source": [
    "## Урок 7. Функции высшего порядка"
   ]
  },
  {
   "cell_type": "markdown",
   "id": "c794ea86-2f43-44da-96a8-7ed2e27b8d6a",
   "metadata": {},
   "source": [
    "### Задача 1. print_operation_table"
   ]
  },
  {
   "cell_type": "markdown",
   "id": "db615db4-29a5-4146-b00a-ff43fa47b181",
   "metadata": {},
   "source": [
    "Напишите функцию print_operation_table(operation, num_rows, num_columns), которая принимает в качестве аргумента функцию, вычисляющую элемент по номеру строки и столбца.\n",
    "\n",
    "Аргументы num_rows и num_columns указывают число строк и столбцов таблицы, которые должны быть распечатаны.\n",
    "\n",
    "Нумерация строк и столбцов идет с единицы (подумайте, почему не с нуля).\n",
    "\n",
    "Если строк меньше двух, выдайте текст\n",
    "ОШИБКА! Размерности таблицы должны быть больше 2!.\n",
    "\n",
    "Примечание: бинарной операцией называется любая операция, у которой ровно два аргумента, как, например, у операции умножения."
   ]
  },
  {
   "cell_type": "code",
   "execution_count": 50,
   "id": "de726a9c-813d-44ac-b22a-6a0778d2d62b",
   "metadata": {},
   "outputs": [
    {
     "name": "stdout",
     "output_type": "stream",
     "text": [
      "1 2 3\n",
      "2 4 6\n",
      "3 6 9\n"
     ]
    }
   ],
   "source": [
    "def print_operation_table(operation, num_rows, num_columns):\n",
    "    if num_rows < 2:\n",
    "        return print(\"ОШИБКА! Размерности таблицы должны быть больше 2!\")\n",
    "    for i in range(1, num_rows + 1):\n",
    "        if i != 1:\n",
    "            for j in range(1, num_columns + 1):\n",
    "                if j != 1:\n",
    "                    print(operation(i,j), sep='', end='')\n",
    "                    if j != num_columns:\n",
    "                        print(end=' ')\n",
    "                else: print(i, end=' ')\n",
    "        else: \n",
    "            for j in range(1, num_columns + 1):\n",
    "                print(j, end='')\n",
    "                if j != num_columns:\n",
    "                    print(end=' ')\n",
    "        print(sep='')\n",
    "\n",
    "print_operation_table(lambda x, y: x * y, 3, 3)\n",
    "    "
   ]
  },
  {
   "cell_type": "code",
   "execution_count": null,
   "id": "92788007-baef-4058-9f57-5c512db3a8f4",
   "metadata": {},
   "outputs": [],
   "source": [
    "# Решение задачи, представленное в виде эталонного\n",
    "def print_operation_table(operation, num_rows, num_columns):\n",
    "    if num_rows < 2 or num_columns < 2:\n",
    "        print('ОШИБКА! Размерности таблицы должны быть больше 2!')\n",
    "    else:\n",
    "        header = ' '.join([str(i) for i in range(1, num_columns + 1)])\n",
    "        print(header)\n",
    "        for i in range(2, num_rows + 1):\n",
    "            row = [str(i)] + [str(operation(i, j)) for j in range(2, num_columns + 1)]\n",
    "            print(' '.join(row))\n"
   ]
  },
  {
   "cell_type": "markdown",
   "id": "081c303a-1ac6-4e70-824b-e68f1befae2d",
   "metadata": {},
   "source": [
    "### Задача 2. Винни Пух"
   ]
  },
  {
   "cell_type": "markdown",
   "id": "66b5da88-ae63-44a4-8340-244aed04b935",
   "metadata": {},
   "source": [
    "Винни-Пух попросил Вас посмотреть, есть ли в его стихах ритм. Поскольку разобраться в его кричалках не настолько просто, насколько легко он их придумывает, Вам стоит написать программу.\n",
    "\n",
    "Винни-Пух считает, что ритм есть, если число слогов (т.е. число гласных букв) в каждой фразе стихотворения одинаковое.\n",
    "Фраза может состоять из одного слова, если во фразе несколько слов, то они разделяются дефисами.\n",
    "Фразы отделяются друг от друга пробелами.\n",
    "\n",
    "Стихотворение  Винни-Пух передаст вам автоматически в переменную stroka в виде строки. В ответе напишите Парам пам-пам, если с ритмом все в порядке и Пам парам, если с ритмом все не в порядке.\n",
    "Если фраза только одна, то ритм определить не получится и необходимо вывести: Количество фраз должно быть больше одной!"
   ]
  },
  {
   "cell_type": "code",
   "execution_count": null,
   "id": "4ab13198-1c5d-4e5b-85b7-eb5ce5993029",
   "metadata": {},
   "outputs": [],
   "source": [
    "stroka = input()\n",
    "\n",
    "def is_one_phrase(str):\n",
    "    if \" \" in str:\n",
    "        return False\n",
    "    return True\n",
    "\n",
    "def count_syllable(phrase):\n",
    "    count = 0\n",
    "    for char in phrase:\n",
    "        if char in 'аеёиоуэюя':\n",
    "            count += 1\n",
    "    return count\n",
    "    \n",
    "\n",
    "def is_rhythm(str):\n",
    "    phrases = [phrase for phrase in str.split()]\n",
    "    for phrase in phrases:\n",
    "        if count_syllable(phrase) != count_syllable(phrases[0]):\n",
    "            return False\n",
    "    return True\n",
    "    \n",
    "def get_answer(str):\n",
    "    if is_one_phrase(str):\n",
    "        return 'Количество фраз должно быть больше одной!'\n",
    "    if is_rhythm(str):\n",
    "        return 'Парам пам-пам'\n",
    "    else:\n",
    "        return 'Пам парам'\n",
    "    \n",
    "print(get_answer(stroka))"
   ]
  },
  {
   "cell_type": "code",
   "execution_count": 15,
   "id": "ec91c88d-eba6-4216-a862-a4ab66eb57e4",
   "metadata": {},
   "outputs": [
    {
     "name": "stdout",
     "output_type": "stream",
     "text": [
      "Парам пам-пам\n"
     ]
    }
   ],
   "source": [
    "stroka = 'пара-ра-рам рам-пам-папам па-ра-па-дам'\n",
    "\n",
    "def is_one_phrase(str):\n",
    "    pass\n",
    "\n",
    "def count_syllable(phrase):\n",
    "    pass\n",
    "    \n",
    "\n",
    "def is_rhythm(str):\n",
    "    pass\n",
    "    \n",
    "def get_answer(str):\n",
    "    if is_one_phrase(str):\n",
    "        return 'Количество фраз должно быть больше одной!'\n",
    "    if is_rhythm(str):\n",
    "        return 'Парам пам-пам'\n",
    "    else:\n",
    "        return 'Пам парам'\n",
    "    \n",
    "print(get_answer(stroka))"
   ]
  },
  {
   "cell_type": "code",
   "execution_count": null,
   "id": "169291c5-c7aa-44df-808e-bb54ea80e5d3",
   "metadata": {},
   "outputs": [],
   "source": [
    "# Решение задачи, представленное в виде эталонного\n",
    "vowels = ['а', 'е', 'ё', 'и', 'й', 'о', 'у', 'ы', 'э', 'ю', 'я']\n",
    "phrases = stroka.split()\n",
    "if len(phrases) < 2:\n",
    " print('Количество фраз должно быть больше одной!')\n",
    "else:\n",
    " countVowels = []\n",
    "\n",
    " for i in phrases:\n",
    "  countVowels.append(len([x for x in i if x.lower() in vowels]))\n",
    "\n",
    " if countVowels.count(countVowels[0]) == len(countVowels):\n",
    "  print('Парам пам-пам')\n",
    " else:\n",
    "  print('Пам парам')\n"
   ]
  },
  {
   "cell_type": "markdown",
   "id": "2449c498-e16c-49fb-ae0b-b4350a9f7b19",
   "metadata": {},
   "source": [
    "## Урок 10. Построение графиков"
   ]
  },
  {
   "cell_type": "markdown",
   "id": "dca3be50-574f-4a87-8741-2e50434cbf46",
   "metadata": {},
   "source": [
    "Задача 44: В ячейке ниже представлен код генерирующий DataFrame, которая состоит всего из 1 столбца. Ваша задача перевести его в one hot вид. Сможете ли вы это сделать без get_dummies?\n",
    "\n",
    "import random\n",
    "\n",
    "lst = ['robot'] * 10\n",
    "\n",
    "lst += ['human'] * 10\n",
    "\n",
    "random.shuffle(lst)\n",
    "\n",
    "data = pd.DataFrame({'whoAmI':lst})\n",
    "\n",
    "data.head()\n"
   ]
  },
  {
   "cell_type": "code",
   "execution_count": 15,
   "id": "ece326c3-e8ab-4c41-8946-345f40484db1",
   "metadata": {},
   "outputs": [
    {
     "name": "stdout",
     "output_type": "stream",
     "text": [
      "[1, 0, 1, 1, 0, 1, 0, 0, 1, 0, 1, 0, 1, 1, 0, 0, 1, 1, 0, 0]\n",
      "[0, 1, 0, 0, 1, 0, 1, 1, 0, 1, 0, 1, 0, 0, 1, 1, 0, 0, 1, 1]\n"
     ]
    }
   ],
   "source": [
    "import pandas as pd\n",
    "import random\n",
    "lst = ['robot'] * 10\n",
    "lst += ['human'] * 10\n",
    "random.shuffle(lst)\n",
    "robots = [1 if who == \"robot\" else 0 for who in lst]\n",
    "humans = [1 if who == \"human\" else 0 for who in lst]\n",
    "\n",
    "print(robots)\n",
    "print(humans)\n",
    "\n",
    "# data = pd.DataFrame({'whoAmI':lst})\n",
    "# data.head(20)\n",
    "\n",
    "\n",
    "\n",
    "#pd.get_dummies(data['whoAmI'])"
   ]
  },
  {
   "cell_type": "code",
   "execution_count": null,
   "id": "b802d8dd-fc07-4f09-9e83-9dbe203770a3",
   "metadata": {},
   "outputs": [],
   "source": []
  }
 ],
 "metadata": {
  "kernelspec": {
   "display_name": "Python 3 (ipykernel)",
   "language": "python",
   "name": "python3"
  },
  "language_info": {
   "codemirror_mode": {
    "name": "ipython",
    "version": 3
   },
   "file_extension": ".py",
   "mimetype": "text/x-python",
   "name": "python",
   "nbconvert_exporter": "python",
   "pygments_lexer": "ipython3",
   "version": "3.11.5"
  }
 },
 "nbformat": 4,
 "nbformat_minor": 5
}
